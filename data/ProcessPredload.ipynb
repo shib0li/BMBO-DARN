{
 "cells": [
  {
   "cell_type": "code",
   "execution_count": 8,
   "metadata": {},
   "outputs": [
    {
     "name": "stdout",
     "output_type": "stream",
     "text": [
      "[[ 1.56200213e-01  5.46920927e-01  7.05321523e-01]\n",
      " [-2.03228475e-04 -2.33221094e-04 -1.91043522e-04]\n",
      " [ 6.71339763e-02  1.36365258e-01  3.31743026e-01]\n",
      " [-3.63586095e-02  3.96665519e-01  8.75040794e-02]\n",
      " [ 5.79390470e-02  2.03722905e-01  3.61763278e-01]\n",
      " [ 1.20893633e-01  4.48471987e-01  4.05404022e-01]\n",
      " [-1.13235010e-02  3.21324413e-01  1.28809760e+00]\n",
      " [-2.62073311e-03 -2.62440954e-03 -2.62220543e-03]\n",
      " [ 1.30641998e-01  1.21146236e-01  4.04603886e-01]\n",
      " [-1.34256769e-02  3.02437473e-01  3.09430913e-01]]\n"
     ]
    }
   ],
   "source": [
    "import numpy as np\n",
    "import pickle\n",
    "import os\n",
    "\n",
    "def naive_init_dataset(Ninit, Flist, params, scores):\n",
    "    \n",
    "    mf_Xtr_list = []\n",
    "    mf_ytr_list = []\n",
    "    mf_Xte_list = []\n",
    "    mf_yte_list = []\n",
    "\n",
    "    for fid in Flist:\n",
    "        buff_X = []\n",
    "        buff_y = []\n",
    "        for n in range(Ninit):\n",
    "            buff_X.append(params[n, :])\n",
    "            buff_y.append(scores[n, fid])\n",
    "#             buff_y.append(-scores[n, fid])\n",
    "        #\n",
    "        mf_Xtr_list.append(np.array(buff_X))\n",
    "        mf_ytr_list.append(np.array(buff_y).reshape([-1,1]))\n",
    "    #\n",
    "\n",
    "    mfdata = {}\n",
    "    mfdata['mf_Xtr_list'] = mf_Xtr_list\n",
    "    mfdata['mf_ytr_list'] = mf_ytr_list\n",
    "    mfdata['mf_Xte_list'] = mf_Xtr_list\n",
    "    mfdata['mf_yte_list'] = mf_ytr_list\n",
    "    \n",
    "    return mfdata, mf_Xtr_list, mf_ytr_list\n",
    "#\n",
    "\n",
    "sobol=False\n",
    "if sobol:\n",
    "    prefix = 'sobol_raw_'\n",
    "else:\n",
    "    prefix = 'uniform_raw_'\n",
    "\n",
    "domain='BurgersShock'\n",
    "\n",
    "pickle_name = os.path.join('buff', domain, prefix+domain+'.pickle')\n",
    "\n",
    "with open(pickle_name, 'rb') as handle:\n",
    "    raw = pickle.load(handle)\n",
    "    \n",
    "params = raw['X']\n",
    "scores = raw['Y']\n",
    "\n",
    "Ninit = 10\n",
    "Flist = [0,1,2]\n",
    "\n",
    "mfdata, mf_Xtr_list, mf_ytr_list = naive_init_dataset(Ninit, Flist, params, scores)\n",
    "        \n",
    "dump_path = 'preload' \n",
    "if not os.path.exists(dump_path):\n",
    "    os.makedirs(dump_path)\n",
    "    \n",
    "dump_fname = domain+'.pickle'\n",
    "with open(os.path.join(dump_path, dump_fname), 'wb') as handle:\n",
    "    pickle.dump(mfdata, handle, protocol=pickle.HIGHEST_PROTOCOL)\n",
    "#\n",
    "\n",
    "print(np.hstack([mf_ytr_list[0], mf_ytr_list[1], mf_ytr_list[2]]))\n",
    "\n",
    "\n"
   ]
  },
  {
   "cell_type": "code",
   "execution_count": null,
   "metadata": {},
   "outputs": [],
   "source": []
  }
 ],
 "metadata": {
  "kernelspec": {
   "display_name": "Python 3",
   "language": "python",
   "name": "python3"
  },
  "language_info": {
   "codemirror_mode": {
    "name": "ipython",
    "version": 3
   },
   "file_extension": ".py",
   "mimetype": "text/x-python",
   "name": "python",
   "nbconvert_exporter": "python",
   "pygments_lexer": "ipython3",
   "version": "3.8.5"
  }
 },
 "nbformat": 4,
 "nbformat_minor": 4
}
